{
 "cells": [
  {
   "cell_type": "markdown",
   "id": "3d680aa8-ecd4-43ff-a9df-4255dbe3dc51",
   "metadata": {
    "editable": true,
    "slideshow": {
     "slide_type": ""
    },
    "tags": []
   },
   "source": [
    "<span style=\"font-size: 20px; font-weight: bold;\">Project : Yelp Review Linear Regression</span>"
   ]
  },
  {
   "cell_type": "markdown",
   "id": "27dda4f8-9a33-432e-9594-4625a7146bb8",
   "metadata": {},
   "source": [
    "<span style=\"font-size: 15px; font-weight: bold;\">1. Import Pandas & Load Datasets</span>"
   ]
  },
  {
   "cell_type": "code",
   "execution_count": 1,
   "id": "2273f0a2-1c76-461d-989a-d40a23456fdb",
   "metadata": {},
   "outputs": [],
   "source": [
    "import pandas as pd"
   ]
  },
  {
   "cell_type": "code",
   "execution_count": 2,
   "id": "b42c23ce-b36c-48eb-bbc9-fb351915a4eb",
   "metadata": {},
   "outputs": [],
   "source": [
    "pd.options.display.max_columns = 60\n",
    "pd.options.display.max_colwidth = 500\n",
    "businesses = pd.read_json('yelp_business.json', lines=True)\n",
    "reviews = pd.read_json('yelp_review.json', lines=True)\n",
    "users = pd.read_json('yelp_user.json', lines=True)\n",
    "checkins = pd.read_json('yelp_checkin.json', lines=True)\n",
    "tips = pd.read_json('yelp_tip.json', lines=True)\n",
    "photos = pd.read_json('yelp_photo.json', lines=True)       "
   ]
  },
  {
   "cell_type": "markdown",
   "id": "9e3fc9ce-1c78-4f41-a8f9-2752581213c5",
   "metadata": {},
   "source": [
    "<span style=\"font-size: 15px; font-weight: bold;\">2. Merge Datasets into single DataFrame</span>"
   ]
  },
  {
   "cell_type": "code",
   "execution_count": 3,
   "id": "cc0b2a5f-78a4-48ea-acb7-862309d00a88",
   "metadata": {
    "scrolled": true
   },
   "outputs": [],
   "source": [
    "yelp = pd.merge(businesses, reviews, how='left', on='business_id')"
   ]
  },
  {
   "cell_type": "code",
   "execution_count": 4,
   "id": "92b640f0-c45f-40ef-bf64-e93571303405",
   "metadata": {
    "scrolled": true
   },
   "outputs": [],
   "source": [
    "yelp = pd.merge(yelp, users, how='left', on='business_id')\n",
    "yelp = pd.merge(yelp, checkins, how='left', on='business_id')\n",
    "yelp = pd.merge(yelp, tips, how='left', on='business_id')\n",
    "yelp = pd.merge(yelp, photos, how='left', on='business_id')"
   ]
  },
  {
   "cell_type": "markdown",
   "id": "1d290c7e-52c4-4994-bd33-7db0952d84c2",
   "metadata": {},
   "source": [
    "<span style=\"font-size: 15px; font-weight: bold;\">3. Clean Data using Pandas Drop function</span>"
   ]
  },
  {
   "cell_type": "code",
   "execution_count": 5,
   "id": "d891c6e0-098d-42cf-8fef-d76dce74d7b3",
   "metadata": {},
   "outputs": [
    {
     "name": "stdout",
     "output_type": "stream",
     "text": [
      "Index(['address', 'alcohol?', 'attributes', 'business_id', 'categories',\n",
      "       'city', 'good_for_kids', 'has_bike_parking', 'has_wifi', 'hours',\n",
      "       'is_open', 'latitude', 'longitude', 'name', 'neighborhood',\n",
      "       'postal_code', 'price_range', 'review_count', 'stars', 'state',\n",
      "       'take_reservations', 'takes_credit_cards', 'average_review_age',\n",
      "       'average_review_length', 'average_review_sentiment',\n",
      "       'number_funny_votes', 'number_cool_votes', 'number_useful_votes',\n",
      "       'average_number_friends', 'average_days_on_yelp', 'average_number_fans',\n",
      "       'average_review_count', 'average_number_years_elite', 'time',\n",
      "       'weekday_checkins', 'weekend_checkins', 'average_tip_length',\n",
      "       'number_tips', 'average_caption_length', 'number_pics'],\n",
      "      dtype='object')\n"
     ]
    }
   ],
   "source": [
    "print(yelp.columns)"
   ]
  },
  {
   "cell_type": "code",
   "execution_count": 6,
   "id": "4e81d792-c73c-41d9-8894-aa51f90a3f5e",
   "metadata": {},
   "outputs": [],
   "source": [
    "features_to_remove = ['address','attributes','business_id','categories','city','hours','is_open','latitude','longitude','name','neighborhood','postal_code','state','time']\n",
    "yelp.drop(labels=features_to_remove, axis=1, inplace=True) "
   ]
  },
  {
   "cell_type": "code",
   "execution_count": 7,
   "id": "d40f7368-23f2-4d87-a3ff-ad7150acefd3",
   "metadata": {},
   "outputs": [
    {
     "name": "stdout",
     "output_type": "stream",
     "text": [
      "Index(['alcohol?', 'good_for_kids', 'has_bike_parking', 'has_wifi',\n",
      "       'price_range', 'review_count', 'stars', 'take_reservations',\n",
      "       'takes_credit_cards', 'average_review_age', 'average_review_length',\n",
      "       'average_review_sentiment', 'number_funny_votes', 'number_cool_votes',\n",
      "       'number_useful_votes', 'average_number_friends', 'average_days_on_yelp',\n",
      "       'average_number_fans', 'average_review_count',\n",
      "       'average_number_years_elite', 'weekday_checkins', 'weekend_checkins',\n",
      "       'average_tip_length', 'number_tips', 'average_caption_length',\n",
      "       'number_pics'],\n",
      "      dtype='object')\n"
     ]
    }
   ],
   "source": [
    "print(yelp.columns)"
   ]
  },
  {
   "cell_type": "code",
   "execution_count": 8,
   "id": "dabbc12e-7bfe-41ad-8c4a-d940bd0a070b",
   "metadata": {
    "scrolled": true
   },
   "outputs": [
    {
     "data": {
      "text/plain": [
       "alcohol?                      False\n",
       "good_for_kids                 False\n",
       "has_bike_parking              False\n",
       "has_wifi                      False\n",
       "price_range                   False\n",
       "review_count                  False\n",
       "stars                         False\n",
       "take_reservations             False\n",
       "takes_credit_cards            False\n",
       "average_review_age            False\n",
       "average_review_length         False\n",
       "average_review_sentiment      False\n",
       "number_funny_votes            False\n",
       "number_cool_votes             False\n",
       "number_useful_votes           False\n",
       "average_number_friends        False\n",
       "average_days_on_yelp          False\n",
       "average_number_fans           False\n",
       "average_review_count          False\n",
       "average_number_years_elite    False\n",
       "weekday_checkins               True\n",
       "weekend_checkins               True\n",
       "average_tip_length             True\n",
       "number_tips                    True\n",
       "average_caption_length         True\n",
       "number_pics                    True\n",
       "dtype: bool"
      ]
     },
     "execution_count": 8,
     "metadata": {},
     "output_type": "execute_result"
    }
   ],
   "source": [
    "yelp.isna().any()"
   ]
  },
  {
   "cell_type": "code",
   "execution_count": 9,
   "id": "5c2a75bc-8928-41e2-8cfd-12c42d465c8b",
   "metadata": {},
   "outputs": [],
   "source": [
    "yelp.fillna({'weekday_checkins':0,\n",
    "           'weekend_checkins':0,\n",
    "           'average_tip_length':0,\n",
    "           'number_tips':0,\n",
    "           'average_caption_length':0,\n",
    "           'number_pics':0},\n",
    "          inplace=True)"
   ]
  },
  {
   "cell_type": "markdown",
   "id": "869b9966-4916-4aa7-b9c7-54bce4fe1390",
   "metadata": {},
   "source": [
    "<span style=\"font-size: 15px; font-weight: bold;\">4. Explore Feature Correlations</span>"
   ]
  },
  {
   "cell_type": "code",
   "execution_count": 10,
   "id": "58fe9ba0-12d9-4138-bc4a-8eb000612a7b",
   "metadata": {},
   "outputs": [
    {
     "name": "stdout",
     "output_type": "stream",
     "text": [
      "alcohol?                     -0.043332\n",
      "good_for_kids                -0.030382\n",
      "has_bike_parking              0.068084\n",
      "has_wifi                     -0.039857\n",
      "price_range                  -0.052565\n",
      "review_count                  0.032413\n",
      "stars                         1.000000\n",
      "take_reservations            -0.024486\n",
      "takes_credit_cards            0.037748\n",
      "average_review_age           -0.125645\n",
      "average_review_length        -0.277081\n",
      "average_review_sentiment      0.782187\n",
      "number_funny_votes            0.001320\n",
      "number_cool_votes             0.043375\n",
      "number_useful_votes          -0.000066\n",
      "average_number_friends       -0.007629\n",
      "average_days_on_yelp         -0.038061\n",
      "average_number_fans          -0.031141\n",
      "average_review_count         -0.066572\n",
      "average_number_years_elite   -0.064419\n",
      "weekday_checkins              0.004130\n",
      "weekend_checkins              0.007863\n",
      "average_tip_length           -0.052899\n",
      "number_tips                   0.014038\n",
      "average_caption_length        0.000040\n",
      "number_pics                   0.001727\n",
      "Name: stars, dtype: float64\n"
     ]
    }
   ],
   "source": [
    "full_corr = yelp.corr()\n",
    "print(full_corr['stars'])"
   ]
  },
  {
   "cell_type": "markdown",
   "id": "bdbe5112-e014-4a96-aed4-5c9420bb0434",
   "metadata": {},
   "source": [
    "Weakest Correlations : average_caption_length, number_useful_votes, weekday_checkins, weekend_checkins, number_pics"
   ]
  },
  {
   "cell_type": "markdown",
   "id": "b0e99d94-5106-4842-9a7e-8485523046d8",
   "metadata": {},
   "source": [
    "<span style=\"font-size: 15px; font-weight: bold;\">5. Add high correlating Data to new DataFrame to base predictions off</span>"
   ]
  },
  {
   "cell_type": "code",
   "execution_count": 11,
   "id": "d20353da-1126-403f-9f9b-b11d519adf87",
   "metadata": {},
   "outputs": [],
   "source": [
    "all_features = ['alcohol?', 'good_for_kids', 'has_bike_parking', 'has_wifi',\n",
    "       'price_range', 'review_count', 'take_reservations',\n",
    "       'takes_credit_cards', 'average_review_age', 'average_review_length',\n",
    "       'average_review_sentiment', 'number_funny_votes', 'number_cool_votes',\n",
    "       'number_useful_votes', 'average_number_friends', 'average_days_on_yelp',\n",
    "       'average_number_fans', 'average_review_count',\n",
    "       'average_number_years_elite', 'weekday_checkins', 'weekend_checkins',\n",
    "       'average_tip_length', 'number_tips', 'average_caption_length',\n",
    "       'number_pics']\n",
    "featuresdf = yelp[all_features]\n",
    "rating = yelp['stars']"
   ]
  },
  {
   "cell_type": "markdown",
   "id": "27c2ad01-b1b0-44e9-abd1-878c508a5997",
   "metadata": {},
   "source": [
    "<span style=\"font-size: 15px; font-weight: bold;\">6. Split data into Train & Test sets using SKLearn library</span>"
   ]
  },
  {
   "cell_type": "code",
   "execution_count": 12,
   "id": "3480c188-58aa-4c2b-8f29-d8f8b487ba2f",
   "metadata": {},
   "outputs": [],
   "source": [
    "from sklearn.model_selection import train_test_split\n",
    "feature_train, feature_test, rating_train, rating_test = train_test_split(featuresdf, rating, test_size=.2, random_state = 1)"
   ]
  },
  {
   "cell_type": "markdown",
   "id": "e782f65d-db67-4769-8a0c-4cc7d917a0ee",
   "metadata": {},
   "source": [
    "<span style=\"font-size: 15px; font-weight: bold;\">7. Create, Test, Train Model using Linear Regression</span>"
   ]
  },
  {
   "cell_type": "code",
   "execution_count": 13,
   "id": "ccf5d32a-88fe-4917-b308-165c5748ab47",
   "metadata": {},
   "outputs": [
    {
     "data": {
      "text/html": [
       "<style>#sk-container-id-1 {\n",
       "  /* Definition of color scheme common for light and dark mode */\n",
       "  --sklearn-color-text: #000;\n",
       "  --sklearn-color-text-muted: #666;\n",
       "  --sklearn-color-line: gray;\n",
       "  /* Definition of color scheme for unfitted estimators */\n",
       "  --sklearn-color-unfitted-level-0: #fff5e6;\n",
       "  --sklearn-color-unfitted-level-1: #f6e4d2;\n",
       "  --sklearn-color-unfitted-level-2: #ffe0b3;\n",
       "  --sklearn-color-unfitted-level-3: chocolate;\n",
       "  /* Definition of color scheme for fitted estimators */\n",
       "  --sklearn-color-fitted-level-0: #f0f8ff;\n",
       "  --sklearn-color-fitted-level-1: #d4ebff;\n",
       "  --sklearn-color-fitted-level-2: #b3dbfd;\n",
       "  --sklearn-color-fitted-level-3: cornflowerblue;\n",
       "\n",
       "  /* Specific color for light theme */\n",
       "  --sklearn-color-text-on-default-background: var(--sg-text-color, var(--theme-code-foreground, var(--jp-content-font-color1, black)));\n",
       "  --sklearn-color-background: var(--sg-background-color, var(--theme-background, var(--jp-layout-color0, white)));\n",
       "  --sklearn-color-border-box: var(--sg-text-color, var(--theme-code-foreground, var(--jp-content-font-color1, black)));\n",
       "  --sklearn-color-icon: #696969;\n",
       "\n",
       "  @media (prefers-color-scheme: dark) {\n",
       "    /* Redefinition of color scheme for dark theme */\n",
       "    --sklearn-color-text-on-default-background: var(--sg-text-color, var(--theme-code-foreground, var(--jp-content-font-color1, white)));\n",
       "    --sklearn-color-background: var(--sg-background-color, var(--theme-background, var(--jp-layout-color0, #111)));\n",
       "    --sklearn-color-border-box: var(--sg-text-color, var(--theme-code-foreground, var(--jp-content-font-color1, white)));\n",
       "    --sklearn-color-icon: #878787;\n",
       "  }\n",
       "}\n",
       "\n",
       "#sk-container-id-1 {\n",
       "  color: var(--sklearn-color-text);\n",
       "}\n",
       "\n",
       "#sk-container-id-1 pre {\n",
       "  padding: 0;\n",
       "}\n",
       "\n",
       "#sk-container-id-1 input.sk-hidden--visually {\n",
       "  border: 0;\n",
       "  clip: rect(1px 1px 1px 1px);\n",
       "  clip: rect(1px, 1px, 1px, 1px);\n",
       "  height: 1px;\n",
       "  margin: -1px;\n",
       "  overflow: hidden;\n",
       "  padding: 0;\n",
       "  position: absolute;\n",
       "  width: 1px;\n",
       "}\n",
       "\n",
       "#sk-container-id-1 div.sk-dashed-wrapped {\n",
       "  border: 1px dashed var(--sklearn-color-line);\n",
       "  margin: 0 0.4em 0.5em 0.4em;\n",
       "  box-sizing: border-box;\n",
       "  padding-bottom: 0.4em;\n",
       "  background-color: var(--sklearn-color-background);\n",
       "}\n",
       "\n",
       "#sk-container-id-1 div.sk-container {\n",
       "  /* jupyter's `normalize.less` sets `[hidden] { display: none; }`\n",
       "     but bootstrap.min.css set `[hidden] { display: none !important; }`\n",
       "     so we also need the `!important` here to be able to override the\n",
       "     default hidden behavior on the sphinx rendered scikit-learn.org.\n",
       "     See: https://github.com/scikit-learn/scikit-learn/issues/21755 */\n",
       "  display: inline-block !important;\n",
       "  position: relative;\n",
       "}\n",
       "\n",
       "#sk-container-id-1 div.sk-text-repr-fallback {\n",
       "  display: none;\n",
       "}\n",
       "\n",
       "div.sk-parallel-item,\n",
       "div.sk-serial,\n",
       "div.sk-item {\n",
       "  /* draw centered vertical line to link estimators */\n",
       "  background-image: linear-gradient(var(--sklearn-color-text-on-default-background), var(--sklearn-color-text-on-default-background));\n",
       "  background-size: 2px 100%;\n",
       "  background-repeat: no-repeat;\n",
       "  background-position: center center;\n",
       "}\n",
       "\n",
       "/* Parallel-specific style estimator block */\n",
       "\n",
       "#sk-container-id-1 div.sk-parallel-item::after {\n",
       "  content: \"\";\n",
       "  width: 100%;\n",
       "  border-bottom: 2px solid var(--sklearn-color-text-on-default-background);\n",
       "  flex-grow: 1;\n",
       "}\n",
       "\n",
       "#sk-container-id-1 div.sk-parallel {\n",
       "  display: flex;\n",
       "  align-items: stretch;\n",
       "  justify-content: center;\n",
       "  background-color: var(--sklearn-color-background);\n",
       "  position: relative;\n",
       "}\n",
       "\n",
       "#sk-container-id-1 div.sk-parallel-item {\n",
       "  display: flex;\n",
       "  flex-direction: column;\n",
       "}\n",
       "\n",
       "#sk-container-id-1 div.sk-parallel-item:first-child::after {\n",
       "  align-self: flex-end;\n",
       "  width: 50%;\n",
       "}\n",
       "\n",
       "#sk-container-id-1 div.sk-parallel-item:last-child::after {\n",
       "  align-self: flex-start;\n",
       "  width: 50%;\n",
       "}\n",
       "\n",
       "#sk-container-id-1 div.sk-parallel-item:only-child::after {\n",
       "  width: 0;\n",
       "}\n",
       "\n",
       "/* Serial-specific style estimator block */\n",
       "\n",
       "#sk-container-id-1 div.sk-serial {\n",
       "  display: flex;\n",
       "  flex-direction: column;\n",
       "  align-items: center;\n",
       "  background-color: var(--sklearn-color-background);\n",
       "  padding-right: 1em;\n",
       "  padding-left: 1em;\n",
       "}\n",
       "\n",
       "\n",
       "/* Toggleable style: style used for estimator/Pipeline/ColumnTransformer box that is\n",
       "clickable and can be expanded/collapsed.\n",
       "- Pipeline and ColumnTransformer use this feature and define the default style\n",
       "- Estimators will overwrite some part of the style using the `sk-estimator` class\n",
       "*/\n",
       "\n",
       "/* Pipeline and ColumnTransformer style (default) */\n",
       "\n",
       "#sk-container-id-1 div.sk-toggleable {\n",
       "  /* Default theme specific background. It is overwritten whether we have a\n",
       "  specific estimator or a Pipeline/ColumnTransformer */\n",
       "  background-color: var(--sklearn-color-background);\n",
       "}\n",
       "\n",
       "/* Toggleable label */\n",
       "#sk-container-id-1 label.sk-toggleable__label {\n",
       "  cursor: pointer;\n",
       "  display: flex;\n",
       "  width: 100%;\n",
       "  margin-bottom: 0;\n",
       "  padding: 0.5em;\n",
       "  box-sizing: border-box;\n",
       "  text-align: center;\n",
       "  align-items: start;\n",
       "  justify-content: space-between;\n",
       "  gap: 0.5em;\n",
       "}\n",
       "\n",
       "#sk-container-id-1 label.sk-toggleable__label .caption {\n",
       "  font-size: 0.6rem;\n",
       "  font-weight: lighter;\n",
       "  color: var(--sklearn-color-text-muted);\n",
       "}\n",
       "\n",
       "#sk-container-id-1 label.sk-toggleable__label-arrow:before {\n",
       "  /* Arrow on the left of the label */\n",
       "  content: \"▸\";\n",
       "  float: left;\n",
       "  margin-right: 0.25em;\n",
       "  color: var(--sklearn-color-icon);\n",
       "}\n",
       "\n",
       "#sk-container-id-1 label.sk-toggleable__label-arrow:hover:before {\n",
       "  color: var(--sklearn-color-text);\n",
       "}\n",
       "\n",
       "/* Toggleable content - dropdown */\n",
       "\n",
       "#sk-container-id-1 div.sk-toggleable__content {\n",
       "  max-height: 0;\n",
       "  max-width: 0;\n",
       "  overflow: hidden;\n",
       "  text-align: left;\n",
       "  /* unfitted */\n",
       "  background-color: var(--sklearn-color-unfitted-level-0);\n",
       "}\n",
       "\n",
       "#sk-container-id-1 div.sk-toggleable__content.fitted {\n",
       "  /* fitted */\n",
       "  background-color: var(--sklearn-color-fitted-level-0);\n",
       "}\n",
       "\n",
       "#sk-container-id-1 div.sk-toggleable__content pre {\n",
       "  margin: 0.2em;\n",
       "  border-radius: 0.25em;\n",
       "  color: var(--sklearn-color-text);\n",
       "  /* unfitted */\n",
       "  background-color: var(--sklearn-color-unfitted-level-0);\n",
       "}\n",
       "\n",
       "#sk-container-id-1 div.sk-toggleable__content.fitted pre {\n",
       "  /* unfitted */\n",
       "  background-color: var(--sklearn-color-fitted-level-0);\n",
       "}\n",
       "\n",
       "#sk-container-id-1 input.sk-toggleable__control:checked~div.sk-toggleable__content {\n",
       "  /* Expand drop-down */\n",
       "  max-height: 200px;\n",
       "  max-width: 100%;\n",
       "  overflow: auto;\n",
       "}\n",
       "\n",
       "#sk-container-id-1 input.sk-toggleable__control:checked~label.sk-toggleable__label-arrow:before {\n",
       "  content: \"▾\";\n",
       "}\n",
       "\n",
       "/* Pipeline/ColumnTransformer-specific style */\n",
       "\n",
       "#sk-container-id-1 div.sk-label input.sk-toggleable__control:checked~label.sk-toggleable__label {\n",
       "  color: var(--sklearn-color-text);\n",
       "  background-color: var(--sklearn-color-unfitted-level-2);\n",
       "}\n",
       "\n",
       "#sk-container-id-1 div.sk-label.fitted input.sk-toggleable__control:checked~label.sk-toggleable__label {\n",
       "  background-color: var(--sklearn-color-fitted-level-2);\n",
       "}\n",
       "\n",
       "/* Estimator-specific style */\n",
       "\n",
       "/* Colorize estimator box */\n",
       "#sk-container-id-1 div.sk-estimator input.sk-toggleable__control:checked~label.sk-toggleable__label {\n",
       "  /* unfitted */\n",
       "  background-color: var(--sklearn-color-unfitted-level-2);\n",
       "}\n",
       "\n",
       "#sk-container-id-1 div.sk-estimator.fitted input.sk-toggleable__control:checked~label.sk-toggleable__label {\n",
       "  /* fitted */\n",
       "  background-color: var(--sklearn-color-fitted-level-2);\n",
       "}\n",
       "\n",
       "#sk-container-id-1 div.sk-label label.sk-toggleable__label,\n",
       "#sk-container-id-1 div.sk-label label {\n",
       "  /* The background is the default theme color */\n",
       "  color: var(--sklearn-color-text-on-default-background);\n",
       "}\n",
       "\n",
       "/* On hover, darken the color of the background */\n",
       "#sk-container-id-1 div.sk-label:hover label.sk-toggleable__label {\n",
       "  color: var(--sklearn-color-text);\n",
       "  background-color: var(--sklearn-color-unfitted-level-2);\n",
       "}\n",
       "\n",
       "/* Label box, darken color on hover, fitted */\n",
       "#sk-container-id-1 div.sk-label.fitted:hover label.sk-toggleable__label.fitted {\n",
       "  color: var(--sklearn-color-text);\n",
       "  background-color: var(--sklearn-color-fitted-level-2);\n",
       "}\n",
       "\n",
       "/* Estimator label */\n",
       "\n",
       "#sk-container-id-1 div.sk-label label {\n",
       "  font-family: monospace;\n",
       "  font-weight: bold;\n",
       "  display: inline-block;\n",
       "  line-height: 1.2em;\n",
       "}\n",
       "\n",
       "#sk-container-id-1 div.sk-label-container {\n",
       "  text-align: center;\n",
       "}\n",
       "\n",
       "/* Estimator-specific */\n",
       "#sk-container-id-1 div.sk-estimator {\n",
       "  font-family: monospace;\n",
       "  border: 1px dotted var(--sklearn-color-border-box);\n",
       "  border-radius: 0.25em;\n",
       "  box-sizing: border-box;\n",
       "  margin-bottom: 0.5em;\n",
       "  /* unfitted */\n",
       "  background-color: var(--sklearn-color-unfitted-level-0);\n",
       "}\n",
       "\n",
       "#sk-container-id-1 div.sk-estimator.fitted {\n",
       "  /* fitted */\n",
       "  background-color: var(--sklearn-color-fitted-level-0);\n",
       "}\n",
       "\n",
       "/* on hover */\n",
       "#sk-container-id-1 div.sk-estimator:hover {\n",
       "  /* unfitted */\n",
       "  background-color: var(--sklearn-color-unfitted-level-2);\n",
       "}\n",
       "\n",
       "#sk-container-id-1 div.sk-estimator.fitted:hover {\n",
       "  /* fitted */\n",
       "  background-color: var(--sklearn-color-fitted-level-2);\n",
       "}\n",
       "\n",
       "/* Specification for estimator info (e.g. \"i\" and \"?\") */\n",
       "\n",
       "/* Common style for \"i\" and \"?\" */\n",
       "\n",
       ".sk-estimator-doc-link,\n",
       "a:link.sk-estimator-doc-link,\n",
       "a:visited.sk-estimator-doc-link {\n",
       "  float: right;\n",
       "  font-size: smaller;\n",
       "  line-height: 1em;\n",
       "  font-family: monospace;\n",
       "  background-color: var(--sklearn-color-background);\n",
       "  border-radius: 1em;\n",
       "  height: 1em;\n",
       "  width: 1em;\n",
       "  text-decoration: none !important;\n",
       "  margin-left: 0.5em;\n",
       "  text-align: center;\n",
       "  /* unfitted */\n",
       "  border: var(--sklearn-color-unfitted-level-1) 1pt solid;\n",
       "  color: var(--sklearn-color-unfitted-level-1);\n",
       "}\n",
       "\n",
       ".sk-estimator-doc-link.fitted,\n",
       "a:link.sk-estimator-doc-link.fitted,\n",
       "a:visited.sk-estimator-doc-link.fitted {\n",
       "  /* fitted */\n",
       "  border: var(--sklearn-color-fitted-level-1) 1pt solid;\n",
       "  color: var(--sklearn-color-fitted-level-1);\n",
       "}\n",
       "\n",
       "/* On hover */\n",
       "div.sk-estimator:hover .sk-estimator-doc-link:hover,\n",
       ".sk-estimator-doc-link:hover,\n",
       "div.sk-label-container:hover .sk-estimator-doc-link:hover,\n",
       ".sk-estimator-doc-link:hover {\n",
       "  /* unfitted */\n",
       "  background-color: var(--sklearn-color-unfitted-level-3);\n",
       "  color: var(--sklearn-color-background);\n",
       "  text-decoration: none;\n",
       "}\n",
       "\n",
       "div.sk-estimator.fitted:hover .sk-estimator-doc-link.fitted:hover,\n",
       ".sk-estimator-doc-link.fitted:hover,\n",
       "div.sk-label-container:hover .sk-estimator-doc-link.fitted:hover,\n",
       ".sk-estimator-doc-link.fitted:hover {\n",
       "  /* fitted */\n",
       "  background-color: var(--sklearn-color-fitted-level-3);\n",
       "  color: var(--sklearn-color-background);\n",
       "  text-decoration: none;\n",
       "}\n",
       "\n",
       "/* Span, style for the box shown on hovering the info icon */\n",
       ".sk-estimator-doc-link span {\n",
       "  display: none;\n",
       "  z-index: 9999;\n",
       "  position: relative;\n",
       "  font-weight: normal;\n",
       "  right: .2ex;\n",
       "  padding: .5ex;\n",
       "  margin: .5ex;\n",
       "  width: min-content;\n",
       "  min-width: 20ex;\n",
       "  max-width: 50ex;\n",
       "  color: var(--sklearn-color-text);\n",
       "  box-shadow: 2pt 2pt 4pt #999;\n",
       "  /* unfitted */\n",
       "  background: var(--sklearn-color-unfitted-level-0);\n",
       "  border: .5pt solid var(--sklearn-color-unfitted-level-3);\n",
       "}\n",
       "\n",
       ".sk-estimator-doc-link.fitted span {\n",
       "  /* fitted */\n",
       "  background: var(--sklearn-color-fitted-level-0);\n",
       "  border: var(--sklearn-color-fitted-level-3);\n",
       "}\n",
       "\n",
       ".sk-estimator-doc-link:hover span {\n",
       "  display: block;\n",
       "}\n",
       "\n",
       "/* \"?\"-specific style due to the `<a>` HTML tag */\n",
       "\n",
       "#sk-container-id-1 a.estimator_doc_link {\n",
       "  float: right;\n",
       "  font-size: 1rem;\n",
       "  line-height: 1em;\n",
       "  font-family: monospace;\n",
       "  background-color: var(--sklearn-color-background);\n",
       "  border-radius: 1rem;\n",
       "  height: 1rem;\n",
       "  width: 1rem;\n",
       "  text-decoration: none;\n",
       "  /* unfitted */\n",
       "  color: var(--sklearn-color-unfitted-level-1);\n",
       "  border: var(--sklearn-color-unfitted-level-1) 1pt solid;\n",
       "}\n",
       "\n",
       "#sk-container-id-1 a.estimator_doc_link.fitted {\n",
       "  /* fitted */\n",
       "  border: var(--sklearn-color-fitted-level-1) 1pt solid;\n",
       "  color: var(--sklearn-color-fitted-level-1);\n",
       "}\n",
       "\n",
       "/* On hover */\n",
       "#sk-container-id-1 a.estimator_doc_link:hover {\n",
       "  /* unfitted */\n",
       "  background-color: var(--sklearn-color-unfitted-level-3);\n",
       "  color: var(--sklearn-color-background);\n",
       "  text-decoration: none;\n",
       "}\n",
       "\n",
       "#sk-container-id-1 a.estimator_doc_link.fitted:hover {\n",
       "  /* fitted */\n",
       "  background-color: var(--sklearn-color-fitted-level-3);\n",
       "}\n",
       "</style><div id=\"sk-container-id-1\" class=\"sk-top-container\"><div class=\"sk-text-repr-fallback\"><pre>LinearRegression()</pre><b>In a Jupyter environment, please rerun this cell to show the HTML representation or trust the notebook. <br />On GitHub, the HTML representation is unable to render, please try loading this page with nbviewer.org.</b></div><div class=\"sk-container\" hidden><div class=\"sk-item\"><div class=\"sk-estimator fitted sk-toggleable\"><input class=\"sk-toggleable__control sk-hidden--visually\" id=\"sk-estimator-id-1\" type=\"checkbox\" checked><label for=\"sk-estimator-id-1\" class=\"sk-toggleable__label fitted sk-toggleable__label-arrow\"><div><div>LinearRegression</div></div><div><a class=\"sk-estimator-doc-link fitted\" rel=\"noreferrer\" target=\"_blank\" href=\"https://scikit-learn.org/1.6/modules/generated/sklearn.linear_model.LinearRegression.html\">?<span>Documentation for LinearRegression</span></a><span class=\"sk-estimator-doc-link fitted\">i<span>Fitted</span></span></div></label><div class=\"sk-toggleable__content fitted\"><pre>LinearRegression()</pre></div> </div></div></div></div>"
      ],
      "text/plain": [
       "LinearRegression()"
      ]
     },
     "execution_count": 13,
     "metadata": {},
     "output_type": "execute_result"
    }
   ],
   "source": [
    "from sklearn.linear_model import LinearRegression\n",
    "model = LinearRegression()\n",
    "model.fit(feature_train, rating_train)"
   ]
  },
  {
   "cell_type": "markdown",
   "id": "5d70e8af-1f3f-4b1b-952e-5df3aff6a7de",
   "metadata": {},
   "source": [
    "<span style=\"font-size: 15px; font-weight: bold;\">Procedure : Train model first using all features, improve R2 value by elimating low correlating features</span>"
   ]
  },
  {
   "cell_type": "code",
   "execution_count": 14,
   "id": "522b7e88-2b85-4931-baee-cb465b2dae45",
   "metadata": {},
   "outputs": [
    {
     "data": {
      "text/plain": [
       "0.6807828861895334"
      ]
     },
     "execution_count": 14,
     "metadata": {},
     "output_type": "execute_result"
    }
   ],
   "source": [
    "model.score(feature_train, rating_train)"
   ]
  },
  {
   "cell_type": "code",
   "execution_count": 15,
   "id": "6df6943f-5339-4fe0-9d35-ea6825ce1978",
   "metadata": {},
   "outputs": [
    {
     "data": {
      "text/plain": [
       "0.678212904586925"
      ]
     },
     "execution_count": 15,
     "metadata": {},
     "output_type": "execute_result"
    }
   ],
   "source": [
    "model.score(feature_test, rating_test)"
   ]
  },
  {
   "cell_type": "markdown",
   "id": "21f66651-eb7c-4436-a757-82c18ae7644c",
   "metadata": {},
   "source": [
    "<span style=\"font-size: 13px; font-weight: bold;\">All Feature R2 = 0.678212904586925\n",
    "</span>"
   ]
  },
  {
   "cell_type": "code",
   "execution_count": 16,
   "id": "2db1e7cc-bb45-4cb3-b105-aa15a6abf5c4",
   "metadata": {},
   "outputs": [
    {
     "data": {
      "text/plain": [
       "array([-1.49914986e-01, -1.18078144e-01,  2.72969699e-02, -1.21553826e-01,\n",
       "       -6.48673015e-02,  1.01122594e-04,  1.41345592e-02,  2.44518379e-02,\n",
       "       -1.57765441e-04, -5.89625792e-04,  2.28084570e+00,  4.84793510e-05,\n",
       "        9.72372273e-04, -2.71506413e-04,  2.06958404e-05,  1.23261477e-04,\n",
       "        1.02679868e-03, -2.33983569e-04, -6.27893971e-02,  6.15390912e-05,\n",
       "       -9.23961747e-05, -4.20521750e-04, -8.54656332e-04, -6.47274980e-04,\n",
       "       -1.31336123e-03])"
      ]
     },
     "execution_count": 16,
     "metadata": {},
     "output_type": "execute_result"
    }
   ],
   "source": [
    "model.coef_"
   ]
  },
  {
   "cell_type": "markdown",
   "id": "52a0bb9d-0bb2-4432-bff1-56a72556b64b",
   "metadata": {},
   "source": [
    "<span style=\"font-size: 13px; font-weight: bold;\">Create helper function to test different modelsets\n",
    "</span>"
   ]
  },
  {
   "cell_type": "code",
   "execution_count": 17,
   "id": "a8f7608c-94fa-4a8b-9e58-2438ab21ced8",
   "metadata": {},
   "outputs": [],
   "source": [
    "def model_tester(features):\n",
    "    #create DataFrames for feature lists\n",
    "    ratingdf = yelp['stars']\n",
    "    featuresdf = yelp[features]\n",
    "    \n",
    "    #split data into train and test sets\n",
    "    feature_train, feature_test, rating_train, rating_test = train_test_split(featuresdf, ratingdf, test_size=.2, random_state = 1)\n",
    "    #create and fit model\n",
    "    model = LinearRegression()\n",
    "    model.fit(feature_train, rating_train)\n",
    "    #print features and coefficients\n",
    "    print(features)\n",
    "    print(model.coef_)\n",
    "    #print out Test Scores\n",
    "    print('Training Score: ', model.score(feature_train, rating_train))\n",
    "    print('Testing Score', model.score(feature_test, rating_test))"
   ]
  },
  {
   "cell_type": "markdown",
   "id": "cae60ceb-1d68-49ce-99d2-2af42373dd12",
   "metadata": {},
   "source": [
    "<span style=\"font-size: 13px; font-weight: bold;\">Eliminate low coeffient features to improve model accuracy\n",
    "</span>"
   ]
  },
  {
   "cell_type": "code",
   "execution_count": 18,
   "id": "24481aba-52a2-4495-9653-ae3bd04030cd",
   "metadata": {},
   "outputs": [],
   "source": [
    "#Elimated : number_funny_votes, weekday_checkins, weekend_checkins\n",
    "first_test_features = ['alcohol?', 'good_for_kids', 'has_bike_parking', 'has_wifi',\n",
    "       'price_range', 'review_count', 'take_reservations',\n",
    "       'takes_credit_cards', 'average_review_age', 'average_review_length',\n",
    "       'average_review_sentiment', 'number_cool_votes',\n",
    "       'number_useful_votes', 'average_number_friends', 'average_days_on_yelp',\n",
    "       'average_number_fans', 'average_review_count',\n",
    "       'average_number_years_elite', 'average_tip_length', 'number_tips', 'average_caption_length',\n",
    "       'number_pics']"
   ]
  },
  {
   "cell_type": "code",
   "execution_count": 19,
   "id": "16b48d41-64d0-4b11-91c5-a5eee55d3853",
   "metadata": {},
   "outputs": [
    {
     "name": "stdout",
     "output_type": "stream",
     "text": [
      "['alcohol?', 'good_for_kids', 'has_bike_parking', 'has_wifi', 'price_range', 'review_count', 'take_reservations', 'takes_credit_cards', 'average_review_age', 'average_review_length', 'average_review_sentiment', 'number_cool_votes', 'number_useful_votes', 'average_number_friends', 'average_days_on_yelp', 'average_number_fans', 'average_review_count', 'average_number_years_elite', 'average_tip_length', 'number_tips', 'average_caption_length', 'number_pics']\n",
      "[-1.49762019e-01 -1.16993057e-01  2.77349515e-02 -1.21672012e-01\n",
      " -6.51187302e-02  5.16426776e-05  1.43982195e-02  2.49631542e-02\n",
      " -1.57776352e-04 -5.90455991e-04  2.28123729e+00  9.28917625e-04\n",
      " -2.28959672e-04  2.14035921e-05  1.23485920e-04  1.02888512e-03\n",
      " -2.34188655e-04 -6.29747782e-02 -4.17623773e-04 -1.08106632e-03\n",
      " -6.05003168e-04 -1.24351879e-03]\n",
      "Training Score:  0.6807270659310503\n",
      "Testing Score 0.6781672353208771\n"
     ]
    }
   ],
   "source": [
    "model_tester(first_test_features)"
   ]
  },
  {
   "cell_type": "markdown",
   "id": "b04f11f8-fea6-4a61-8aa5-ff3b18837bea",
   "metadata": {},
   "source": [
    "<span style=\"font-size: 13px; font-weight: bold;\">Our best model accuracy was with all quantifiable features, with a R2 value of 0.678212904586925, just below .7 threshhold showing relatively accurate predictions from our model.\n",
    "</span>"
   ]
  },
  {
   "cell_type": "code",
   "execution_count": null,
   "id": "be63dc74-259d-4dc2-a229-93d9e15af38c",
   "metadata": {},
   "outputs": [],
   "source": []
  }
 ],
 "metadata": {
  "kernelspec": {
   "display_name": "Python 3 (ipykernel)",
   "language": "python",
   "name": "python3"
  },
  "language_info": {
   "codemirror_mode": {
    "name": "ipython",
    "version": 3
   },
   "file_extension": ".py",
   "mimetype": "text/x-python",
   "name": "python",
   "nbconvert_exporter": "python",
   "pygments_lexer": "ipython3",
   "version": "3.13.5"
  }
 },
 "nbformat": 4,
 "nbformat_minor": 5
}
